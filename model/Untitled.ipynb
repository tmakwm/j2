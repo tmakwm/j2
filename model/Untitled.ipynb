{
 "cells": [
  {
   "cell_type": "code",
   "execution_count": 2,
   "metadata": {
    "collapsed": false
   },
   "outputs": [
    {
     "name": "stdout",
     "output_type": "stream",
     "text": [
      "Installed plantuml-magics.py. To use it, type:\n",
      "  %load_ext plantuml-magics\n"
     ]
    },
    {
     "name": "stderr",
     "output_type": "stream",
     "text": [
      "C:\\Users\\SAMSUNG\\Anaconda\\lib\\site-packages\\IPython\\core\\magics\\extension.py:47: UserWarning: %install_ext` is deprecated, please distribute your extension(s)as a python packages.\n",
      "  \"as a python packages.\", UserWarning)\n"
     ]
    }
   ],
   "source": [
    "%install_ext https://raw.githubusercontent.com/sberke/ipython-plantuml/master/plantuml-magics.py"
   ]
  },
  {
   "cell_type": "code",
   "execution_count": 1,
   "metadata": {
    "collapsed": false
   },
   "outputs": [],
   "source": [
    "%load_ext plantuml_magics"
   ]
  },
  {
   "cell_type": "code",
   "execution_count": 8,
   "metadata": {
    "collapsed": false
   },
   "outputs": [
    {
     "data": {
      "image/svg+xml": [
       "<svg height=\"417px\" style=\"width:663px;height:417px;\" version=\"1.1\" viewBox=\"0 0 663 417\" width=\"663px\" xmlns=\"http://www.w3.org/2000/svg\" xmlns:xlink=\"http://www.w3.org/1999/xlink\"><defs><filter height=\"300%\" id=\"f1\" width=\"300%\" x=\"-1\" y=\"-1\"><feGaussianBlur result=\"blurOut\" stdDeviation=\"2.0\"/><feColorMatrix in=\"blurOut\" result=\"blurOut2\" type=\"matrix\" values=\"0 0 0 0 0 0 0 0 0 0 0 0 0 0 0 0 0 0 .4 0\"/><feOffset dx=\"4.0\" dy=\"4.0\" in=\"blurOut2\" result=\"blurOut3\"/><feBlend in=\"SourceGraphic\" in2=\"blurOut3\" mode=\"normal\"/></filter></defs><g><rect fill=\"#FEFECE\" filter=\"url(#f1)\" height=\"48\" style=\"stroke: #A80036; stroke-width: 1.5;\" width=\"61\" x=\"224.5\" y=\"38\"/><ellipse cx=\"239.5\" cy=\"54\" fill=\"#ADD1B2\" rx=\"11\" ry=\"11\" style=\"stroke: #A80036; stroke-width: 1.0;\"/><path d=\"M239.0625,47.5156 Q236.3281,47.5156 235.25,49.1406 Q234.1094,50.8594 234.1094,53.7813 Q234.1094,57.0781 235.2656,58.7813 Q236.25,60.2813 238.8594,60.2813 Q240.4375,60.2813 241.3125,59.4531 Q242.2969,58.5 242.4375,56.375 Q242.4375,56.0781 242.2656,55.9063 Q242.1406,55.75 241.9219,55.7344 Q240.7031,55.7344 240.5469,55.8594 Q240.375,56.0156 240.375,56.2813 Q240.3438,57.7656 239.6875,58.5781 Q239.0781,59.375 239,59.375 Q237.6719,59.375 236.8906,57.7813 Q236.1406,56.2344 236.1406,53.75 Q236.1406,51.125 237.0781,49.6719 Q237.9063,48.4219 239.1875,48.4219 Q239.1875,48.4219 239.5313,49.0469 Q240.1563,49.7188 240.2969,50.875 Q240.4063,51.4531 241.875,51.2344 Q242.4063,51.1563 242.375,50.7344 Q242.2031,49.2969 241.4844,48.4844 Q240.625,47.5156 239.0625,47.5156 Z \"/><text fill=\"#000000\" font-family=\"sans-serif\" font-size=\"12\" lengthAdjust=\"spacingAndGlyphs\" textLength=\"29\" x=\"253.5\" y=\"59.6045\">client</text><line style=\"stroke: #A80036; stroke-width: 1.5;\" x1=\"225.5\" x2=\"284.5\" y1=\"70\" y2=\"70\"/><line style=\"stroke: #A80036; stroke-width: 1.5;\" x1=\"225.5\" x2=\"284.5\" y1=\"78\" y2=\"78\"/><rect fill=\"#FEFECE\" filter=\"url(#f1)\" height=\"108.4355\" style=\"stroke: #A80036; stroke-width: 1.5;\" width=\"105\" x=\"320.5\" y=\"8\"/><ellipse cx=\"356.65\" cy=\"24\" fill=\"#ADD1B2\" rx=\"11\" ry=\"11\" style=\"stroke: #A80036; stroke-width: 1.0;\"/><path d=\"M356.2125,17.5156 Q353.4781,17.5156 352.4,19.1406 Q351.2594,20.8594 351.2594,23.7813 Q351.2594,27.0781 352.4156,28.7813 Q353.4,30.2813 356.0094,30.2813 Q357.5875,30.2813 358.4625,29.4531 Q359.4469,28.5 359.5875,26.375 Q359.5875,26.0781 359.4156,25.9063 Q359.2906,25.75 359.0719,25.7344 Q357.8531,25.7344 357.6969,25.8594 Q357.525,26.0156 357.525,26.2813 Q357.4938,27.7656 356.8375,28.5781 Q356.2281,29.375 356.15,29.375 Q354.8219,29.375 354.0406,27.7813 Q353.2906,26.2344 353.2906,23.75 Q353.2906,21.125 354.2281,19.6719 Q355.0563,18.4219 356.3375,18.4219 Q356.3375,18.4219 356.6813,19.0469 Q357.3063,19.7188 357.4469,20.875 Q357.5563,21.4531 359.025,21.2344 Q359.5563,21.1563 359.525,20.7344 Q359.3531,19.2969 358.6344,18.4844 Q357.775,17.5156 356.2125,17.5156 Z \"/><text fill=\"#000000\" font-family=\"sans-serif\" font-size=\"12\" lengthAdjust=\"spacingAndGlyphs\" textLength=\"26\" x=\"375.35\" y=\"29.6045\">duck</text><line style=\"stroke: #A80036; stroke-width: 1.5;\" x1=\"321.5\" x2=\"424.5\" y1=\"40\" y2=\"40\"/><line style=\"stroke: #A80036; stroke-width: 1.5;\" x1=\"321.5\" x2=\"424.5\" y1=\"48\" y2=\"48\"/><ellipse cx=\"331.5\" cy=\"61.0544\" fill=\"#84BE84\" rx=\"3\" ry=\"3\" style=\"stroke: #038048; stroke-width: 1.0;\"/><text fill=\"#000000\" font-family=\"sans-serif\" font-size=\"11\" lengthAdjust=\"spacingAndGlyphs\" textLength=\"34\" x=\"340.5\" y=\"64.6919\">swim()</text><ellipse cx=\"331.5\" cy=\"76.1633\" fill=\"#84BE84\" rx=\"3\" ry=\"3\" style=\"stroke: #038048; stroke-width: 1.0;\"/><text fill=\"#000000\" font-family=\"sans-serif\" font-size=\"11\" lengthAdjust=\"spacingAndGlyphs\" textLength=\"42\" x=\"340.5\" y=\"79.8008\">display()</text><ellipse cx=\"331.5\" cy=\"91.2722\" fill=\"#84BE84\" rx=\"3\" ry=\"3\" style=\"stroke: #038048; stroke-width: 1.0;\"/><text fill=\"#000000\" font-family=\"sans-serif\" font-size=\"11\" lengthAdjust=\"spacingAndGlyphs\" textLength=\"79\" x=\"340.5\" y=\"94.9097\">quackbehavior()</text><ellipse cx=\"331.5\" cy=\"106.3811\" fill=\"#84BE84\" rx=\"3\" ry=\"3\" style=\"stroke: #038048; stroke-width: 1.0;\"/><text fill=\"#000000\" font-family=\"sans-serif\" font-size=\"11\" lengthAdjust=\"spacingAndGlyphs\" textLength=\"62\" x=\"340.5\" y=\"110.0186\">flybehavior()</text><rect fill=\"#FEFECE\" filter=\"url(#f1)\" height=\"63.1089\" style=\"stroke: #A80036; stroke-width: 1.5;\" width=\"68\" x=\"524\" y=\"30.5\"/><ellipse cx=\"539\" cy=\"46.5\" fill=\"#B4A7E5\" rx=\"11\" ry=\"11\" style=\"stroke: #A80036; stroke-width: 1.0;\"/><path d=\"M536.7031,40.625 L536.7031,52.25 Q536.7031,52.5 536.8594,52.6563 Q537,52.7969 538.2188,52.7969 Q538.4219,52.7969 538.5625,52.6719 Q538.7344,52.5156 538.7344,52.25 L538.7344,40.5781 Q538.7344,40.3125 538.5625,40.1719 Q538.3438,39.9531 537.2188,40.0313 Q537,40.0313 536.8594,40.1875 Q536.7031,40.3438 536.7031,40.625 Z \"/><text fill=\"#000000\" font-family=\"sans-serif\" font-size=\"12\" font-style=\"italic\" lengthAdjust=\"spacingAndGlyphs\" textLength=\"36\" x=\"553\" y=\"52.1045\">Quack</text><line style=\"stroke: #A80036; stroke-width: 1.5;\" x1=\"525\" x2=\"591\" y1=\"62.5\" y2=\"62.5\"/><line style=\"stroke: #A80036; stroke-width: 1.5;\" x1=\"525\" x2=\"591\" y1=\"70.5\" y2=\"70.5\"/><ellipse cx=\"535\" cy=\"83.5544\" fill=\"#84BE84\" rx=\"3\" ry=\"3\" style=\"stroke: #038048; stroke-width: 1.0;\"/><text fill=\"#000000\" font-family=\"sans-serif\" font-size=\"11\" lengthAdjust=\"spacingAndGlyphs\" textLength=\"37\" x=\"544\" y=\"87.1919\">quack()</text><rect fill=\"#FEFECE\" filter=\"url(#f1)\" height=\"48\" style=\"stroke: #A80036; stroke-width: 1.5;\" width=\"65\" x=\"589.5\" y=\"183.5\"/><ellipse cx=\"604.5\" cy=\"199.5\" fill=\"#ADD1B2\" rx=\"11\" ry=\"11\" style=\"stroke: #A80036; stroke-width: 1.0;\"/><path d=\"M604.0625,193.0156 Q601.3281,193.0156 600.25,194.6406 Q599.1094,196.3594 599.1094,199.2813 Q599.1094,202.5781 600.2656,204.2813 Q601.25,205.7813 603.8594,205.7813 Q605.4375,205.7813 606.3125,204.9531 Q607.2969,204 607.4375,201.875 Q607.4375,201.5781 607.2656,201.4063 Q607.1406,201.25 606.9219,201.2344 Q605.7031,201.2344 605.5469,201.3594 Q605.375,201.5156 605.375,201.7813 Q605.3438,203.2656 604.6875,204.0781 Q604.0781,204.875 604,204.875 Q602.6719,204.875 601.8906,203.2813 Q601.1406,201.7344 601.1406,199.25 Q601.1406,196.625 602.0781,195.1719 Q602.9063,193.9219 604.1875,193.9219 Q604.1875,193.9219 604.5313,194.5469 Q605.1563,195.2188 605.2969,196.375 Q605.4063,196.9531 606.875,196.7344 Q607.4063,196.6563 607.375,196.2344 Q607.2031,194.7969 606.4844,193.9844 Q605.625,193.0156 604.0625,193.0156 Z \"/><text fill=\"#000000\" font-family=\"sans-serif\" font-size=\"12\" lengthAdjust=\"spacingAndGlyphs\" textLength=\"33\" x=\"618.5\" y=\"205.1045\">quack</text><line style=\"stroke: #A80036; stroke-width: 1.5;\" x1=\"590.5\" x2=\"653.5\" y1=\"215.5\" y2=\"215.5\"/><line style=\"stroke: #A80036; stroke-width: 1.5;\" x1=\"590.5\" x2=\"653.5\" y1=\"223.5\" y2=\"223.5\"/><rect fill=\"#FEFECE\" filter=\"url(#f1)\" height=\"63.1089\" style=\"stroke: #A80036; stroke-width: 1.5;\" width=\"48\" x=\"103\" y=\"176\"/><ellipse cx=\"118\" cy=\"192\" fill=\"#B4A7E5\" rx=\"11\" ry=\"11\" style=\"stroke: #A80036; stroke-width: 1.0;\"/><path d=\"M115.7031,186.125 L115.7031,197.75 Q115.7031,198 115.8594,198.1563 Q116,198.2969 117.2188,198.2969 Q117.4219,198.2969 117.5625,198.1719 Q117.7344,198.0156 117.7344,197.75 L117.7344,186.0781 Q117.7344,185.8125 117.5625,185.6719 Q117.3438,185.4531 116.2188,185.5313 Q116,185.5313 115.8594,185.6875 Q115.7031,185.8438 115.7031,186.125 Z \"/><text fill=\"#000000\" font-family=\"sans-serif\" font-size=\"12\" font-style=\"italic\" lengthAdjust=\"spacingAndGlyphs\" textLength=\"16\" x=\"132\" y=\"197.6045\">Fly</text><line style=\"stroke: #A80036; stroke-width: 1.5;\" x1=\"104\" x2=\"150\" y1=\"208\" y2=\"208\"/><line style=\"stroke: #A80036; stroke-width: 1.5;\" x1=\"104\" x2=\"150\" y1=\"216\" y2=\"216\"/><ellipse cx=\"114\" cy=\"229.0544\" fill=\"#84BE84\" rx=\"3\" ry=\"3\" style=\"stroke: #038048; stroke-width: 1.0;\"/><text fill=\"#000000\" font-family=\"sans-serif\" font-size=\"11\" lengthAdjust=\"spacingAndGlyphs\" textLength=\"20\" x=\"123\" y=\"232.6919\">fly()</text><rect fill=\"#FEFECE\" filter=\"url(#f1)\" height=\"48\" style=\"stroke: #A80036; stroke-width: 1.5;\" width=\"98\" x=\"6\" y=\"360\"/><ellipse cx=\"21\" cy=\"376\" fill=\"#ADD1B2\" rx=\"11\" ry=\"11\" style=\"stroke: #A80036; stroke-width: 1.0;\"/><path d=\"M20.5625,369.5156 Q17.8281,369.5156 16.75,371.1406 Q15.6094,372.8594 15.6094,375.7813 Q15.6094,379.0781 16.7656,380.7813 Q17.75,382.2813 20.3594,382.2813 Q21.9375,382.2813 22.8125,381.4531 Q23.7969,380.5 23.9375,378.375 Q23.9375,378.0781 23.7656,377.9063 Q23.6406,377.75 23.4219,377.7344 Q22.2031,377.7344 22.0469,377.8594 Q21.875,378.0156 21.875,378.2813 Q21.8438,379.7656 21.1875,380.5781 Q20.5781,381.375 20.5,381.375 Q19.1719,381.375 18.3906,379.7813 Q17.6406,378.2344 17.6406,375.75 Q17.6406,373.125 18.5781,371.6719 Q19.4063,370.4219 20.6875,370.4219 Q20.6875,370.4219 21.0313,371.0469 Q21.6563,371.7188 21.7969,372.875 Q21.9063,373.4531 23.375,373.2344 Q23.9063,373.1563 23.875,372.7344 Q23.7031,371.2969 22.9844,370.4844 Q22.125,369.5156 20.5625,369.5156 Z \"/><text fill=\"#000000\" font-family=\"sans-serif\" font-size=\"12\" lengthAdjust=\"spacingAndGlyphs\" textLength=\"66\" x=\"35\" y=\"381.6045\">flywithwings</text><line style=\"stroke: #A80036; stroke-width: 1.5;\" x1=\"7\" x2=\"103\" y1=\"392\" y2=\"392\"/><line style=\"stroke: #A80036; stroke-width: 1.5;\" x1=\"7\" x2=\"103\" y1=\"400\" y2=\"400\"/><rect fill=\"#FEFECE\" filter=\"url(#f1)\" height=\"48\" style=\"stroke: #A80036; stroke-width: 1.5;\" width=\"122\" x=\"139\" y=\"360\"/><ellipse cx=\"154\" cy=\"376\" fill=\"#ADD1B2\" rx=\"11\" ry=\"11\" style=\"stroke: #A80036; stroke-width: 1.0;\"/><path d=\"M153.5625,369.5156 Q150.8281,369.5156 149.75,371.1406 Q148.6094,372.8594 148.6094,375.7813 Q148.6094,379.0781 149.7656,380.7813 Q150.75,382.2813 153.3594,382.2813 Q154.9375,382.2813 155.8125,381.4531 Q156.7969,380.5 156.9375,378.375 Q156.9375,378.0781 156.7656,377.9063 Q156.6406,377.75 156.4219,377.7344 Q155.2031,377.7344 155.0469,377.8594 Q154.875,378.0156 154.875,378.2813 Q154.8438,379.7656 154.1875,380.5781 Q153.5781,381.375 153.5,381.375 Q152.1719,381.375 151.3906,379.7813 Q150.6406,378.2344 150.6406,375.75 Q150.6406,373.125 151.5781,371.6719 Q152.4063,370.4219 153.6875,370.4219 Q153.6875,370.4219 154.0313,371.0469 Q154.6563,371.7188 154.7969,372.875 Q154.9063,373.4531 156.375,373.2344 Q156.9063,373.1563 156.875,372.7344 Q156.7031,371.2969 155.9844,370.4844 Q155.125,369.5156 153.5625,369.5156 Z \"/><text fill=\"#000000\" font-family=\"sans-serif\" font-size=\"12\" lengthAdjust=\"spacingAndGlyphs\" textLength=\"90\" x=\"168\" y=\"381.6045\">flyRocketpowerd</text><line style=\"stroke: #A80036; stroke-width: 1.5;\" x1=\"140\" x2=\"260\" y1=\"392\" y2=\"392\"/><line style=\"stroke: #A80036; stroke-width: 1.5;\" x1=\"140\" x2=\"260\" y1=\"400\" y2=\"400\"/><rect fill=\"#FEFECE\" filter=\"url(#f1)\" height=\"48\" style=\"stroke: #A80036; stroke-width: 1.5;\" width=\"100\" x=\"186\" y=\"183.5\"/><ellipse cx=\"201\" cy=\"199.5\" fill=\"#ADD1B2\" rx=\"11\" ry=\"11\" style=\"stroke: #A80036; stroke-width: 1.0;\"/><path d=\"M200.5625,193.0156 Q197.8281,193.0156 196.75,194.6406 Q195.6094,196.3594 195.6094,199.2813 Q195.6094,202.5781 196.7656,204.2813 Q197.75,205.7813 200.3594,205.7813 Q201.9375,205.7813 202.8125,204.9531 Q203.7969,204 203.9375,201.875 Q203.9375,201.5781 203.7656,201.4063 Q203.6406,201.25 203.4219,201.2344 Q202.2031,201.2344 202.0469,201.3594 Q201.875,201.5156 201.875,201.7813 Q201.8438,203.2656 201.1875,204.0781 Q200.5781,204.875 200.5,204.875 Q199.1719,204.875 198.3906,203.2813 Q197.6406,201.7344 197.6406,199.25 Q197.6406,196.625 198.5781,195.1719 Q199.4063,193.9219 200.6875,193.9219 Q200.6875,193.9219 201.0313,194.5469 Q201.6563,195.2188 201.7969,196.375 Q201.9063,196.9531 203.375,196.7344 Q203.9063,196.6563 203.875,196.2344 Q203.7031,194.7969 202.9844,193.9844 Q202.125,193.0156 200.5625,193.0156 Z \"/><text fill=\"#000000\" font-family=\"sans-serif\" font-size=\"12\" lengthAdjust=\"spacingAndGlyphs\" textLength=\"68\" x=\"215\" y=\"205.1045\">mallardduck</text><line style=\"stroke: #A80036; stroke-width: 1.5;\" x1=\"187\" x2=\"285\" y1=\"215.5\" y2=\"215.5\"/><line style=\"stroke: #A80036; stroke-width: 1.5;\" x1=\"187\" x2=\"285\" y1=\"223.5\" y2=\"223.5\"/><rect fill=\"#FEFECE\" filter=\"url(#f1)\" height=\"48\" style=\"stroke: #A80036; stroke-width: 1.5;\" width=\"104\" x=\"321\" y=\"183.5\"/><ellipse cx=\"336\" cy=\"199.5\" fill=\"#ADD1B2\" rx=\"11\" ry=\"11\" style=\"stroke: #A80036; stroke-width: 1.0;\"/><path d=\"M335.5625,193.0156 Q332.8281,193.0156 331.75,194.6406 Q330.6094,196.3594 330.6094,199.2813 Q330.6094,202.5781 331.7656,204.2813 Q332.75,205.7813 335.3594,205.7813 Q336.9375,205.7813 337.8125,204.9531 Q338.7969,204 338.9375,201.875 Q338.9375,201.5781 338.7656,201.4063 Q338.6406,201.25 338.4219,201.2344 Q337.2031,201.2344 337.0469,201.3594 Q336.875,201.5156 336.875,201.7813 Q336.8438,203.2656 336.1875,204.0781 Q335.5781,204.875 335.5,204.875 Q334.1719,204.875 333.3906,203.2813 Q332.6406,201.7344 332.6406,199.25 Q332.6406,196.625 333.5781,195.1719 Q334.4063,193.9219 335.6875,193.9219 Q335.6875,193.9219 336.0313,194.5469 Q336.6563,195.2188 336.7969,196.375 Q336.9063,196.9531 338.375,196.7344 Q338.9063,196.6563 338.875,196.2344 Q338.7031,194.7969 337.9844,193.9844 Q337.125,193.0156 335.5625,193.0156 Z \"/><text fill=\"#000000\" font-family=\"sans-serif\" font-size=\"12\" lengthAdjust=\"spacingAndGlyphs\" textLength=\"72\" x=\"350\" y=\"205.1045\">redheadduck</text><line style=\"stroke: #A80036; stroke-width: 1.5;\" x1=\"322\" x2=\"424\" y1=\"215.5\" y2=\"215.5\"/><line style=\"stroke: #A80036; stroke-width: 1.5;\" x1=\"322\" x2=\"424\" y1=\"223.5\" y2=\"223.5\"/><rect fill=\"#FEFECE\" filter=\"url(#f1)\" height=\"48\" style=\"stroke: #A80036; stroke-width: 1.5;\" width=\"94\" x=\"460\" y=\"183.5\"/><ellipse cx=\"475\" cy=\"199.5\" fill=\"#ADD1B2\" rx=\"11\" ry=\"11\" style=\"stroke: #A80036; stroke-width: 1.0;\"/><path d=\"M474.5625,193.0156 Q471.8281,193.0156 470.75,194.6406 Q469.6094,196.3594 469.6094,199.2813 Q469.6094,202.5781 470.7656,204.2813 Q471.75,205.7813 474.3594,205.7813 Q475.9375,205.7813 476.8125,204.9531 Q477.7969,204 477.9375,201.875 Q477.9375,201.5781 477.7656,201.4063 Q477.6406,201.25 477.4219,201.2344 Q476.2031,201.2344 476.0469,201.3594 Q475.875,201.5156 475.875,201.7813 Q475.8438,203.2656 475.1875,204.0781 Q474.5781,204.875 474.5,204.875 Q473.1719,204.875 472.3906,203.2813 Q471.6406,201.7344 471.6406,199.25 Q471.6406,196.625 472.5781,195.1719 Q473.4063,193.9219 474.6875,193.9219 Q474.6875,193.9219 475.0313,194.5469 Q475.6563,195.2188 475.7969,196.375 Q475.9063,196.9531 477.375,196.7344 Q477.9063,196.6563 477.875,196.2344 Q477.7031,194.7969 476.9844,193.9844 Q476.125,193.0156 474.5625,193.0156 Z \"/><text fill=\"#000000\" font-family=\"sans-serif\" font-size=\"12\" lengthAdjust=\"spacingAndGlyphs\" textLength=\"62\" x=\"489\" y=\"205.1045\">rubberduck</text><line style=\"stroke: #A80036; stroke-width: 1.5;\" x1=\"461\" x2=\"553\" y1=\"215.5\" y2=\"215.5\"/><line style=\"stroke: #A80036; stroke-width: 1.5;\" x1=\"461\" x2=\"553\" y1=\"223.5\" y2=\"223.5\"/><path d=\"M579.885,112.07 C590.642,136.188 603.098,164.118 611.658,183.311 \" fill=\"none\" style=\"stroke: #A80036; stroke-width: 1.0; stroke-dasharray: 7.0,7.0;\"/><polygon fill=\"none\" points=\"573.483,114.901,571.73,93.784,586.269,109.199,573.483,114.901\" style=\"stroke: #A80036; stroke-width: 1.0;\"/><path d=\"M106.502,258.18 C92.7378,291.538 75.237,333.9535 64.589,359.7601 \" fill=\"none\" style=\"stroke: #A80036; stroke-width: 1.0; stroke-dasharray: 7.0,7.0;\"/><polygon fill=\"none\" points=\"100.1944,255.114,114.294,239.295,113.136,260.453,100.1944,255.114\" style=\"stroke: #A80036; stroke-width: 1.0;\"/><path d=\"M147.783,258.18 C161.738,291.538 179.482,333.9535 190.278,359.7601 \" fill=\"none\" style=\"stroke: #A80036; stroke-width: 1.0; stroke-dasharray: 7.0,7.0;\"/><polygon fill=\"none\" points=\"141.144,260.448,139.883,239.295,154.059,255.044,141.144,260.448\" style=\"stroke: #A80036; stroke-width: 1.0;\"/><path d=\"M285.883,62 C295.639,62 305.395,62 315.151,62 \" fill=\"none\" style=\"stroke: #A80036; stroke-width: 1.0;\"/><polygon fill=\"#A80036\" points=\"320.253,62,311.253,58,315.253,62,311.253,66,320.253,62\" style=\"stroke: #A80036; stroke-width: 1.0;\"/><path d=\"M308.393,130.672 C290.332,149.591 271.908,168.888 258.167,183.281 \" fill=\"none\" style=\"stroke: #A80036; stroke-width: 1.0;\"/><polygon fill=\"none\" points=\"303.502,125.659,322.375,116.026,313.628,135.326,303.502,125.659\" style=\"stroke: #A80036; stroke-width: 1.0;\"/><path d=\"M373,136.27 C373,153.345 373,170.306 373,183.281 \" fill=\"none\" style=\"stroke: #A80036; stroke-width: 1.0;\"/><polygon fill=\"none\" points=\"366,136.026,373,116.026,380,136.026,366,136.026\" style=\"stroke: #A80036; stroke-width: 1.0;\"/><path d=\"M436.192,130.672 C453.858,149.591 471.878,168.888 485.318,183.281 \" fill=\"none\" style=\"stroke: #A80036; stroke-width: 1.0;\"/><polygon fill=\"none\" points=\"431.05,135.422,422.516,116.026,441.282,125.867,431.05,135.422\" style=\"stroke: #A80036; stroke-width: 1.0;\"/><path d=\"M425.754,62 C456.682,62 487.61,62 518.538,62 \" fill=\"none\" style=\"stroke: #A80036; stroke-width: 1.0;\"/><polygon fill=\"#A80036\" points=\"523.905,62,514.905,58,518.905,62,514.905,66,523.905,62\" style=\"stroke: #A80036; stroke-width: 1.0;\"/><path d=\"M320.377,104.828 C314.635,108.789 308.776,112.591 303,116 C246.453,149.371 224.687,142.869 168,176 C163.749,178.484 159.414,181.325 155.232,184.251 \" fill=\"none\" style=\"stroke: #A80036; stroke-width: 1.0;\"/><polygon fill=\"#A80036\" points=\"151.109,187.195,160.758,185.221,155.1783,184.2898,156.1096,178.7101,151.109,187.195\" style=\"stroke: #A80036; stroke-width: 1.0;\"/></g></svg>"
      ],
      "text/plain": [
       "<IPython.core.display.SVG object>"
      ]
     },
     "execution_count": 8,
     "metadata": {},
     "output_type": "execute_result"
    }
   ],
   "source": [
    "%%plantuml\n",
    "@startuml\n",
    "class client\n",
    "class duck{\n",
    "    +swim()\n",
    "    +display()\n",
    "    +quackbehavior()\n",
    "    +flybehavior()\n",
    "}\n",
    "interface Quack{\n",
    "    +quack()\n",
    "}\n",
    "class quack{\n",
    "    \n",
    "}\n",
    "Quack <|.. quack\n",
    "interface Fly{\n",
    "    +fly()\n",
    "}\n",
    "class flywithwings{\n",
    "    \n",
    "}\n",
    "class flyRocketpowerd{\n",
    "    \n",
    "}\n",
    "Fly<|... flywithwings\n",
    "Fly <|... flyRocketpowerd\n",
    "class mallardduck\n",
    "class redheadduck\n",
    "class rubberduck\n",
    "duck <-right-- client\n",
    "duck <|-- mallardduck\n",
    "duck <|-- redheadduck\n",
    "duck <|-- rubberduck\n",
    "duck -> Quack\n",
    "duck --> Fly\n",
    "@enduml"
   ]
  }
 ],
 "metadata": {
  "kernelspec": {
   "display_name": "Python 2",
   "language": "python",
   "name": "python2"
  },
  "language_info": {
   "codemirror_mode": {
    "name": "ipython",
    "version": 2
   },
   "file_extension": ".py",
   "mimetype": "text/x-python",
   "name": "python",
   "nbconvert_exporter": "python",
   "pygments_lexer": "ipython2",
   "version": "2.7.10"
  }
 },
 "nbformat": 4,
 "nbformat_minor": 0
}
